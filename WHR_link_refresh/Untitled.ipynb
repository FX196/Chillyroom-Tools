{
 "cells": [
  {
   "cell_type": "code",
   "execution_count": 1,
   "metadata": {},
   "outputs": [],
   "source": [
    "import requests\n",
    "import urllib\n",
    "import urllib3\n",
    "from bs4 import BeautifulSoup as bs\n",
    "import json\n",
    "import time\n",
    "import os\n",
    "from IPython.display import clear_output, display, Image\n",
    "from IPython.core.display import display, HTML\n",
    "from selenium import webdriver\n",
    "from selenium.webdriver.common.keys import Keys\n",
    "import os\n",
    "import subprocess"
   ]
  },
  {
   "cell_type": "code",
   "execution_count": 39,
   "metadata": {},
   "outputs": [],
   "source": [
    "video_link_supply_url = \"https://qdownloader.net/download?video=https%3A%2F%2Fwww.youtube.com%2Fwatch%3Fv%3Dj39uGwp0rYo\"\n",
    "iOS_file_path = \"upload_data/promotion/AppStore/config.json\"\n",
    "GP_file_path = \"upload_data/promotion/GooglePlay/config.json\"\n",
    "config_paths = [iOS_file_path, GP_file_path]\n",
    "upload_command = 'cd upload_data/; ./SyncPatch -dir \"promotion\" -addr \"120.78.152.152:7071 18.224.199.212:7071 111.230.177.63:7071\" -nosleep'\n",
    "\n",
    "def execute(cmd):\n",
    "    popen = subprocess.Popen(cmd, stdout=subprocess.PIPE, shell=True, universal_newlines=True)\n",
    "    for stdout_line in iter(popen.stdout.readline, \"\"):\n",
    "        yield stdout_line \n",
    "    popen.stdout.close()\n",
    "    return_code = popen.wait()\n",
    "    if return_code:\n",
    "        raise subprocess.CalledProcessError(return_code, cmd)\n",
    "        \n",
    "def run_command(cmd):\n",
    "    for path in execute(cmd):\n",
    "        print(path, end=\"\")"
   ]
  },
  {
   "cell_type": "code",
   "execution_count": 3,
   "metadata": {},
   "outputs": [],
   "source": [
    "driver = webdriver.Chrome()"
   ]
  },
  {
   "cell_type": "code",
   "execution_count": 8,
   "metadata": {},
   "outputs": [],
   "source": [
    "driver.get(video_link_supply_url)\n",
    "\n",
    "supply_source = driver.page_source\n",
    "supply_soup = bs(supply_source, \"html.parser\")"
   ]
  },
  {
   "cell_type": "code",
   "execution_count": 9,
   "metadata": {
    "scrolled": true
   },
   "outputs": [],
   "source": [
    "target_link = supply_soup.find_all(class_=\"downloadsTable\")[0].find(\n",
    "    download=\"We Happy Restaurant - Preview 2.mp4\")[\"href\"]"
   ]
  },
  {
   "cell_type": "code",
   "execution_count": 10,
   "metadata": {},
   "outputs": [],
   "source": [
    "for config_path in config_paths:\n",
    "    with open(config_path, encoding='utf-8') as data_file:\n",
    "        data = json.loads(data_file.read())\n",
    "\n",
    "    data[0][\"adUrl\"] = target_link\n",
    "    with open(config_path, 'w') as outfile:\n",
    "        json.dump(data, outfile, indent = 4)"
   ]
  },
  {
   "cell_type": "code",
   "execution_count": 41,
   "metadata": {},
   "outputs": [
    {
     "name": "stdout",
     "output_type": "stream",
     "text": [
      "\n",
      "Sync File: \n",
      "\n",
      "Not Sync File: \n",
      "     promotion/TapTap/config.json\n",
      "     promotion/AppStore/config.json\n",
      "     promotion/GooglePlay/wehappy/title_img.png\n",
      "     promotion/TapTap/wehappy/full_img.png\n",
      "     promotion/AppStoreCN/config.json\n",
      "     promotion/GooglePlay/wehappy/full_img.png\n",
      "     promotion/AppStore/wehappy/title_img.png\n",
      "     promotion/TapTap/wehappy/title_img.png\n",
      "     promotion/AppStoreCN/wehappy/title_img.png\n",
      "     promotion/GooglePlay/config.json\n",
      "     promotion/AppStore/wehappy/full_img.png\n",
      "     promotion/AppStoreCN/wehappy/full_img.png\n",
      "\n",
      "Sync File: \n",
      "\n",
      "Not Sync File: \n",
      "     promotion/AppStore/wehappy/title_img.png\n",
      "     promotion/TapTap/wehappy/title_img.png\n",
      "     promotion/AppStoreCN/wehappy/title_img.png\n",
      "     promotion/GooglePlay/config.json\n",
      "     promotion/AppStore/wehappy/full_img.png\n",
      "     promotion/AppStoreCN/wehappy/full_img.png\n",
      "     promotion/TapTap/config.json\n",
      "     promotion/AppStore/config.json\n",
      "     promotion/GooglePlay/wehappy/title_img.png\n",
      "     promotion/TapTap/wehappy/full_img.png\n",
      "     promotion/AppStoreCN/config.json\n",
      "     promotion/GooglePlay/wehappy/full_img.png\n",
      "2019/01/11 17:45:23 http_client.go:43: [E] ReadBody: net/http: request canceled (Client.Timeout exceeded while reading body)\n",
      "\n",
      "...finish...\n"
     ]
    }
   ],
   "source": [
    "run_command(upload_command)"
   ]
  },
  {
   "cell_type": "code",
   "execution_count": 42,
   "metadata": {},
   "outputs": [],
   "source": [
    "driver = webdriver.Chrome()"
   ]
  },
  {
   "cell_type": "code",
   "execution_count": 44,
   "metadata": {},
   "outputs": [],
   "source": [
    "driver.get(\"https://console.cloud.tencent.com/cdn/refresh\")"
   ]
  },
  {
   "cell_type": "code",
   "execution_count": null,
   "metadata": {},
   "outputs": [],
   "source": []
  }
 ],
 "metadata": {
  "kernelspec": {
   "display_name": "Scraping_Env",
   "language": "python",
   "name": "scraping_env"
  },
  "language_info": {
   "codemirror_mode": {
    "name": "ipython",
    "version": 3
   },
   "file_extension": ".py",
   "mimetype": "text/x-python",
   "name": "python",
   "nbconvert_exporter": "python",
   "pygments_lexer": "ipython3",
   "version": "3.6.5"
  }
 },
 "nbformat": 4,
 "nbformat_minor": 2
}
