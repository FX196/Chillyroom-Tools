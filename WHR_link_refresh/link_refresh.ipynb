{
 "cells": [
  {
   "cell_type": "code",
   "execution_count": 14,
   "metadata": {},
   "outputs": [],
   "source": [
    "from bs4 import BeautifulSoup as bs\n",
    "import json\n",
    "import time\n",
    "import random\n",
    "from IPython.display import clear_output\n",
    "from IPython.core.display import display\n",
    "from selenium import webdriver\n",
    "from selenium.webdriver.common.keys import Keys\n",
    "from selenium.webdriver.chrome.options import Options\n",
    "import subprocess"
   ]
  },
  {
   "cell_type": "code",
   "execution_count": 29,
   "metadata": {},
   "outputs": [],
   "source": [
    "with open(\"info.json\", \"r\") as file:\n",
    "    info = json.loads(file.read())\n",
    "\n",
    "video_link_supply_url = info[\"link_url\"]\n",
    "iOS_file_path = \"upload_data/promotion/AppStore/config.json\"\n",
    "GP_file_path = \"upload_data/promotion/GooglePlay/config.json\"\n",
    "config_paths = [iOS_file_path, GP_file_path]\n",
    "upload_command = info[\"upload_command\"]\n",
    "cdn_url = info[\"cdn_url\"]\n",
    "\n",
    "chrome_options = Options()\n",
    "chrome_options.add_argument(\"--headless\")\n",
    "chrome_options.add_argument(\"--window-size=1920x1080\")\n",
    "\n",
    "\n",
    "def execute(cmd):\n",
    "    popen = subprocess.Popen(cmd, stdout=subprocess.PIPE,\n",
    "                             shell=True, universal_newlines=True)\n",
    "    for stdout_line in iter(popen.stdout.readline, \"\"):\n",
    "        if not stdout_line:\n",
    "            break\n",
    "        yield stdout_line\n",
    "    popen.stdout.close()\n",
    "    return_code = popen.wait()\n",
    "    if return_code:\n",
    "        raise subprocess.CalledProcessError(return_code, cmd)\n",
    "\n",
    "\n",
    "def run_command(cmd):\n",
    "    for path in execute(cmd):\n",
    "        print(path, end=\"\")\n",
    "\n",
    "\n",
    "def ChromeDriver():\n",
    "    return webdriver.Chrome()\n",
    "\n",
    "\n",
    "def HeadlessChromeDriver():\n",
    "    return webdriver.Chrome(chrome_options=chrome_options)\n",
    "\n",
    "\n",
    "def slow_send_keys(element, keys):\n",
    "    for key in keys:\n",
    "        time.sleep(random.random() * 0.5)\n",
    "        element.send_keys(key)\n"
   ]
  },
  {
   "cell_type": "code",
   "execution_count": 16,
   "metadata": {},
   "outputs": [
    {
     "name": "stderr",
     "output_type": "stream",
     "text": [
      "/Users/yuhongc/PycharmProjects/Scraping_Env/lib/python3.6/site-packages/ipykernel_launcher.py:37: DeprecationWarning: use options instead of chrome_options\n"
     ]
    }
   ],
   "source": [
    "driver = HeadlessChromeDriver()"
   ]
  },
  {
   "cell_type": "code",
   "execution_count": 17,
   "metadata": {},
   "outputs": [],
   "source": [
    "driver.get(video_link_supply_url)\n",
    "\n",
    "supply_source = driver.page_source\n",
    "supply_soup = bs(supply_source, \"html.parser\")"
   ]
  },
  {
   "cell_type": "code",
   "execution_count": 18,
   "metadata": {
    "scrolled": true
   },
   "outputs": [],
   "source": [
    "target_link = supply_soup.find_all(class_=\"downloadsTable\")[0].find(\n",
    "    download=\"We Happy Restaurant - Preview 2.mp4\")[\"href\"]"
   ]
  },
  {
   "cell_type": "code",
   "execution_count": 19,
   "metadata": {},
   "outputs": [],
   "source": [
    "for config_path in config_paths:\n",
    "    with open(config_path, encoding='utf-8') as data_file:\n",
    "        data = json.loads(data_file.read())\n",
    "\n",
    "    data[0][\"adUrl\"] = target_link\n",
    "    with open(config_path, 'w') as outfile:\n",
    "        json.dump(data, outfile, indent = 4)"
   ]
  },
  {
   "cell_type": "code",
   "execution_count": 30,
   "metadata": {},
   "outputs": [
    {
     "name": "stdout",
     "output_type": "stream",
     "text": [
      "\n",
      "Sync File: \n",
      "\n",
      "Not Sync File: \n",
      "     promotion/AppStore/wehappy/title_img.png\n",
      "     promotion/GooglePlay/config.json\n",
      "     promotion/TapTap/config.json\n",
      "     promotion/TapTap/wehappy/full_img.png\n",
      "     promotion/AppStoreCN/wehappy/full_img.png\n",
      "     promotion/TapTap/wehappy/title_img.png\n",
      "     promotion/GooglePlay/wehappy/title_img.png\n",
      "     promotion/AppStore/wehappy/full_img.png\n",
      "     promotion/AppStoreCN/config.json\n",
      "     promotion/AppStoreCN/wehappy/title_img.png\n",
      "     promotion/AppStore/config.json\n",
      "     promotion/GooglePlay/wehappy/full_img.png\n",
      "\n",
      "Sync File: \n",
      "\n",
      "Not Sync File: \n",
      "     promotion/AppStore/config.json\n",
      "     promotion/GooglePlay/wehappy/full_img.png\n",
      "     promotion/AppStore/wehappy/title_img.png\n",
      "     promotion/GooglePlay/config.json\n",
      "     promotion/TapTap/config.json\n",
      "     promotion/TapTap/wehappy/full_img.png\n",
      "     promotion/AppStoreCN/wehappy/full_img.png\n",
      "     promotion/TapTap/wehappy/title_img.png\n",
      "     promotion/GooglePlay/wehappy/title_img.png\n",
      "     promotion/AppStore/wehappy/full_img.png\n",
      "     promotion/AppStoreCN/config.json\n",
      "     promotion/AppStoreCN/wehappy/title_img.png\n",
      "\n",
      "Sync File: \n",
      "\n",
      "Not Sync File: \n",
      "     promotion/TapTap/wehappy/full_img.png\n",
      "     promotion/TapTap/config.json\n",
      "     promotion/TapTap/wehappy/title_img.png\n",
      "     promotion/AppStoreCN/wehappy/full_img.png\n",
      "     promotion/GooglePlay/wehappy/title_img.png\n",
      "     promotion/AppStore/wehappy/full_img.png\n",
      "     promotion/AppStoreCN/wehappy/title_img.png\n",
      "     promotion/AppStoreCN/config.json\n",
      "     promotion/GooglePlay/wehappy/full_img.png\n",
      "     promotion/AppStore/config.json\n",
      "     promotion/GooglePlay/config.json\n",
      "     promotion/AppStore/wehappy/title_img.png\n",
      "\n",
      "...finish...\n"
     ]
    },
    {
     "ename": "KeyboardInterrupt",
     "evalue": "",
     "output_type": "error",
     "traceback": [
      "\u001b[0;31m---------------------------------------------------------------------------\u001b[0m",
      "\u001b[0;31mKeyboardInterrupt\u001b[0m                         Traceback (most recent call last)",
      "\u001b[0;32m<ipython-input-30-e48cad5f92d9>\u001b[0m in \u001b[0;36m<module>\u001b[0;34m\u001b[0m\n\u001b[0;32m----> 1\u001b[0;31m \u001b[0mrun_command\u001b[0m\u001b[0;34m(\u001b[0m\u001b[0;34m\"cd upload_data/; ./SyncPatch -dir 'promotion' -addr '120.78.152.152:7071 18.224.199.212:7071 111.230.177.63:7071'\"\u001b[0m\u001b[0;34m)\u001b[0m\u001b[0;34m\u001b[0m\u001b[0m\n\u001b[0m",
      "\u001b[0;32m<ipython-input-29-6f8921c7d1de>\u001b[0m in \u001b[0;36mrun_command\u001b[0;34m(cmd)\u001b[0m\n\u001b[1;32m     28\u001b[0m \u001b[0;34m\u001b[0m\u001b[0m\n\u001b[1;32m     29\u001b[0m \u001b[0;32mdef\u001b[0m \u001b[0mrun_command\u001b[0m\u001b[0;34m(\u001b[0m\u001b[0mcmd\u001b[0m\u001b[0;34m)\u001b[0m\u001b[0;34m:\u001b[0m\u001b[0;34m\u001b[0m\u001b[0m\n\u001b[0;32m---> 30\u001b[0;31m     \u001b[0;32mfor\u001b[0m \u001b[0mpath\u001b[0m \u001b[0;32min\u001b[0m \u001b[0mexecute\u001b[0m\u001b[0;34m(\u001b[0m\u001b[0mcmd\u001b[0m\u001b[0;34m)\u001b[0m\u001b[0;34m:\u001b[0m\u001b[0;34m\u001b[0m\u001b[0m\n\u001b[0m\u001b[1;32m     31\u001b[0m         \u001b[0mprint\u001b[0m\u001b[0;34m(\u001b[0m\u001b[0mpath\u001b[0m\u001b[0;34m,\u001b[0m \u001b[0mend\u001b[0m\u001b[0;34m=\u001b[0m\u001b[0;34m\"\"\u001b[0m\u001b[0;34m)\u001b[0m\u001b[0;34m\u001b[0m\u001b[0m\n\u001b[1;32m     32\u001b[0m \u001b[0;34m\u001b[0m\u001b[0m\n",
      "\u001b[0;32m<ipython-input-29-6f8921c7d1de>\u001b[0m in \u001b[0;36mexecute\u001b[0;34m(cmd)\u001b[0m\n\u001b[1;32m     17\u001b[0m     popen = subprocess.Popen(cmd, stdout=subprocess.PIPE,\n\u001b[1;32m     18\u001b[0m                              shell=True, universal_newlines=True)\n\u001b[0;32m---> 19\u001b[0;31m     \u001b[0;32mfor\u001b[0m \u001b[0mstdout_line\u001b[0m \u001b[0;32min\u001b[0m \u001b[0miter\u001b[0m\u001b[0;34m(\u001b[0m\u001b[0mpopen\u001b[0m\u001b[0;34m.\u001b[0m\u001b[0mstdout\u001b[0m\u001b[0;34m.\u001b[0m\u001b[0mreadline\u001b[0m\u001b[0;34m,\u001b[0m \u001b[0;34m\"\"\u001b[0m\u001b[0;34m)\u001b[0m\u001b[0;34m:\u001b[0m\u001b[0;34m\u001b[0m\u001b[0m\n\u001b[0m\u001b[1;32m     20\u001b[0m         \u001b[0;32mif\u001b[0m \u001b[0;32mnot\u001b[0m \u001b[0mstdout_line\u001b[0m\u001b[0;34m:\u001b[0m\u001b[0;34m\u001b[0m\u001b[0m\n\u001b[1;32m     21\u001b[0m             \u001b[0;32mbreak\u001b[0m\u001b[0;34m\u001b[0m\u001b[0m\n",
      "\u001b[0;31mKeyboardInterrupt\u001b[0m: "
     ]
    }
   ],
   "source": [
    "run_command(\"cd upload_data/; ./SyncPatch -dir 'promotion' -addr '120.78.152.152:7071 18.224.199.212:7071 111.230.177.63:7071'\")"
   ]
  },
  {
   "cell_type": "code",
   "execution_count": 10,
   "metadata": {},
   "outputs": [
    {
     "data": {
      "text/plain": [
       "\"cd upload_data/; ./SyncPatch -dir 'promotion' -addr '120.78.152.152:7071 18.224.199.212:7071 111.230.177.63:7071' -nosleep\""
      ]
     },
     "execution_count": 10,
     "metadata": {},
     "output_type": "execute_result"
    }
   ],
   "source": []
  },
  {
   "cell_type": "code",
   "execution_count": 108,
   "metadata": {},
   "outputs": [],
   "source": [
    "driver = ChromeDriver()"
   ]
  },
  {
   "cell_type": "code",
   "execution_count": 109,
   "metadata": {},
   "outputs": [],
   "source": [
    "driver.get(\"https://console.cloud.tencent.com/cdn/refresh\")"
   ]
  },
  {
   "cell_type": "code",
   "execution_count": 110,
   "metadata": {},
   "outputs": [],
   "source": [
    "link = driver.find_element_by_link_text(\"QQ\")\n",
    "link.click()"
   ]
  },
  {
   "cell_type": "code",
   "execution_count": 111,
   "metadata": {},
   "outputs": [],
   "source": [
    "time.sleep(random.random()+0.5)\n",
    "driver.switch_to.frame('ptlogin_iframe')\n",
    "driver.find_element_by_partial_link_text(\"登录\").click()"
   ]
  },
  {
   "cell_type": "code",
   "execution_count": 112,
   "metadata": {},
   "outputs": [],
   "source": [
    "username = driver.find_element_by_id(\"u\")\n",
    "username.click()\n",
    "time.sleep(random.random() + 0.5)\n",
    "username.clear()\n",
    "slow_send_keys(username, info[\"username\"])\n",
    "time.sleep(random.random() + 0.5)\n",
    "password = driver.find_element_by_id(\"p\")\n",
    "time.sleep(random.random() + 0.5)\n",
    "password.click()\n",
    "time.sleep(random.random() + 0.5)\n",
    "password.clear()\n",
    "slow_send_keys(password, info[\"password\"])\n",
    "time.sleep(random.random() + 0.5)\n",
    "driver.find_element_by_id('login_button').click()\n",
    "time.sleep(random.random() + 0.5)\n"
   ]
  },
  {
   "cell_type": "code",
   "execution_count": 93,
   "metadata": {},
   "outputs": [],
   "source": [
    "box = driver.find_element_by_class_name(\"code-list\")\n",
    "box = box.find_element_by_xpath(\".//tbody//tr//td//textarea\")\n",
    "box.click()\n",
    "box.clear()\n",
    "box.send_keys(\n",
    "\"http://www.chillyroom.com/game/promotion/AppStore/config.json\"\n",
    "\"\\n\"\n",
    "\"http://www.chillyroom.com/game/promotion/GooglePlay/config.json\"\n",
    ")\n",
    "time.sleep(random.random()+0.5)\n",
    "button = driver.find_element_by_class_name(\"tc-btn\")\n",
    "button.click()"
   ]
  },
  {
   "cell_type": "code",
   "execution_count": null,
   "metadata": {},
   "outputs": [],
   "source": []
  }
 ],
 "metadata": {
  "kernelspec": {
   "display_name": "Scraping_Env",
   "language": "python",
   "name": "scraping_env"
  },
  "language_info": {
   "codemirror_mode": {
    "name": "ipython",
    "version": 3
   },
   "file_extension": ".py",
   "mimetype": "text/x-python",
   "name": "python",
   "nbconvert_exporter": "python",
   "pygments_lexer": "ipython3",
   "version": "3.6.5"
  }
 },
 "nbformat": 4,
 "nbformat_minor": 2
}
