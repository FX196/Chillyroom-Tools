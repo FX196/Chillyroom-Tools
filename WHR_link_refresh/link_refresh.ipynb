{
 "cells": [
  {
   "cell_type": "code",
   "execution_count": 1,
   "metadata": {},
   "outputs": [],
   "source": [
    "from bs4 import BeautifulSoup as bs\n",
    "import json\n",
    "import time\n",
    "import random\n",
    "from IPython.display import clear_output\n",
    "from IPython.core.display import display\n",
    "from selenium import webdriver\n",
    "from selenium.webdriver.common.keys import Keys\n",
    "from selenium.webdriver.chrome.options import Options\n",
    "import subprocess\n",
    "from selenium.common.exceptions import NoSuchElementException"
   ]
  },
  {
   "cell_type": "code",
   "execution_count": 2,
   "metadata": {},
   "outputs": [],
   "source": [
    "with open(\"info.json\", \"r\") as file:\n",
    "    info = json.loads(file.read())\n",
    "\n",
    "video_link_supply_url = info[\"link_url\"]\n",
    "iOS_file_path = \"upload_data/promotion/AppStore/config.json\"\n",
    "GP_file_path = \"upload_data/promotion/GooglePlay/config.json\"\n",
    "config_paths = [iOS_file_path, GP_file_path]\n",
    "upload_command = info[\"upload_command\"]\n",
    "cdn_url = info[\"cdn_url\"]\n",
    "\n",
    "chrome_options = Options()\n",
    "chrome_options.add_argument(\"--headless\")\n",
    "chrome_options.add_argument(\"--window-size=1920x1080\")\n",
    "\n",
    "\n",
    "def execute(cmd):\n",
    "    popen = subprocess.Popen(cmd, stdout=subprocess.PIPE,\n",
    "                             shell=True, universal_newlines=True)\n",
    "    for stdout_line in iter(popen.stdout.readline, \"\"):\n",
    "        if not stdout_line:\n",
    "            break\n",
    "        yield stdout_line\n",
    "    popen.stdout.close()\n",
    "    return_code = popen.wait()\n",
    "    if return_code:\n",
    "        raise subprocess.CalledProcessError(return_code, cmd)\n",
    "\n",
    "\n",
    "def run_command(cmd):\n",
    "    for path in execute(cmd):\n",
    "        print(path, end=\"\")\n",
    "\n",
    "\n",
    "def ChromeDriver():\n",
    "    return webdriver.Chrome()\n",
    "\n",
    "\n",
    "def HeadlessChromeDriver():\n",
    "    return webdriver.Chrome(chrome_options=chrome_options)\n",
    "\n",
    "\n",
    "def slow_send_keys(element, keys):\n",
    "    for key in keys:\n",
    "        time.sleep(random.random() * 0.5)\n",
    "        element.send_keys(key)\n"
   ]
  },
  {
   "cell_type": "code",
   "execution_count": 3,
   "metadata": {},
   "outputs": [
    {
     "name": "stderr",
     "output_type": "stream",
     "text": [
      "/Users/yuhongc/PycharmProjects/Scraping_Env/lib/python3.6/site-packages/ipykernel_launcher.py:39: DeprecationWarning: use options instead of chrome_options\n"
     ]
    }
   ],
   "source": [
    "driver = HeadlessChromeDriver()"
   ]
  },
  {
   "cell_type": "code",
   "execution_count": 4,
   "metadata": {},
   "outputs": [],
   "source": [
    "driver.get(video_link_supply_url)\n",
    "\n",
    "supply_source = driver.page_source\n",
    "supply_soup = bs(supply_source, \"html.parser\")"
   ]
  },
  {
   "cell_type": "code",
   "execution_count": 5,
   "metadata": {
    "scrolled": true
   },
   "outputs": [],
   "source": [
    "target_link = supply_soup.find_all(class_=\"downloadsTable\")[0].find(\n",
    "    download=\"We Happy Restaurant - Preview 2.mp4\")[\"href\"]"
   ]
  },
  {
   "cell_type": "code",
   "execution_count": 6,
   "metadata": {},
   "outputs": [],
   "source": [
    "for config_path in config_paths:\n",
    "    with open(config_path, encoding='utf-8') as data_file:\n",
    "        data = json.loads(data_file.read())\n",
    "\n",
    "    data[0][\"adUrl\"] = target_link\n",
    "    with open(config_path, 'w') as outfile:\n",
    "        json.dump(data, outfile, indent = 4)"
   ]
  },
  {
   "cell_type": "code",
   "execution_count": 7,
   "metadata": {},
   "outputs": [
    {
     "name": "stdout",
     "output_type": "stream",
     "text": [
      "\n",
      "Sync File: \n",
      "     promotion/AppStore/config.json\n",
      "     promotion/GooglePlay/config.json\n",
      "\n",
      "Not Sync File: \n",
      "     promotion/GooglePlay/wehappy/title_img.png\n",
      "     promotion/AppStore/wehappy/title_img.png\n",
      "     promotion/AppStoreCN/wehappy/full_img.png\n",
      "     promotion/TapTap/wehappy/title_img.png\n",
      "     promotion/AppStore/wehappy/full_img.png\n",
      "     promotion/GooglePlay/wehappy/full_img.png\n",
      "     promotion/TapTap/wehappy/full_img.png\n",
      "     promotion/AppStoreCN/config.json\n",
      "     promotion/AppStoreCN/wehappy/title_img.png\n",
      "     promotion/TapTap/config.json\n",
      "\n",
      "Sync File: \n",
      "     promotion/AppStore/config.json\n",
      "     promotion/GooglePlay/config.json\n",
      "\n",
      "Not Sync File: \n",
      "     promotion/AppStore/wehappy/full_img.png\n",
      "     promotion/GooglePlay/wehappy/full_img.png\n",
      "     promotion/TapTap/wehappy/full_img.png\n",
      "     promotion/AppStoreCN/config.json\n",
      "     promotion/AppStoreCN/wehappy/title_img.png\n",
      "     promotion/TapTap/config.json\n",
      "     promotion/GooglePlay/wehappy/title_img.png\n",
      "     promotion/AppStore/wehappy/title_img.png\n",
      "     promotion/AppStoreCN/wehappy/full_img.png\n",
      "     promotion/TapTap/wehappy/title_img.png\n",
      "\n",
      "Sync File: \n",
      "     promotion/AppStore/config.json\n",
      "     promotion/GooglePlay/config.json\n",
      "\n",
      "Not Sync File: \n",
      "     promotion/AppStoreCN/config.json\n",
      "     promotion/AppStoreCN/wehappy/title_img.png\n",
      "     promotion/TapTap/config.json\n",
      "     promotion/GooglePlay/wehappy/title_img.png\n",
      "     promotion/AppStore/wehappy/title_img.png\n",
      "     promotion/AppStoreCN/wehappy/full_img.png\n",
      "     promotion/TapTap/wehappy/title_img.png\n",
      "     promotion/AppStore/wehappy/full_img.png\n",
      "     promotion/GooglePlay/wehappy/full_img.png\n",
      "     promotion/TapTap/wehappy/full_img.png\n",
      "\n",
      "...finish...\n"
     ]
    }
   ],
   "source": [
    "run_command(upload_command)"
   ]
  },
  {
   "cell_type": "code",
   "execution_count": 8,
   "metadata": {},
   "outputs": [],
   "source": [
    "driver = ChromeDriver()"
   ]
  },
  {
   "cell_type": "code",
   "execution_count": 9,
   "metadata": {},
   "outputs": [],
   "source": [
    "driver.get(\"https://console.cloud.tencent.com/cdn/refresh\")"
   ]
  },
  {
   "cell_type": "code",
   "execution_count": 10,
   "metadata": {},
   "outputs": [],
   "source": [
    "link = driver.find_element_by_link_text(\"QQ\")\n",
    "link.click()"
   ]
  },
  {
   "cell_type": "code",
   "execution_count": 11,
   "metadata": {},
   "outputs": [],
   "source": [
    "time.sleep(random.random()+0.5)\n",
    "driver.switch_to.frame('ptlogin_iframe')\n",
    "driver.find_element_by_partial_link_text(\"登录\").click()"
   ]
  },
  {
   "cell_type": "code",
   "execution_count": 12,
   "metadata": {},
   "outputs": [],
   "source": [
    "username = driver.find_element_by_id(\"u\")\n",
    "username.click()\n",
    "time.sleep(random.random() + 0.5)\n",
    "username.clear()\n",
    "slow_send_keys(username, info[\"username\"])\n",
    "time.sleep(random.random() + 0.5)\n",
    "password = driver.find_element_by_id(\"p\")\n",
    "time.sleep(random.random() + 0.5)\n",
    "password.click()\n",
    "time.sleep(random.random() + 0.5)\n",
    "password.clear()\n",
    "slow_send_keys(password, info[\"password\"])\n",
    "time.sleep(random.random() + 0.5)\n",
    "driver.find_element_by_id('login_button').click()\n",
    "time.sleep(random.random() + 0.5)\n"
   ]
  },
  {
   "cell_type": "code",
   "execution_count": 13,
   "metadata": {},
   "outputs": [],
   "source": [
    "while True:\n",
    "    try:\n",
    "        box = driver.find_element_by_class_name(\"code-list\")\n",
    "        box = box.find_element_by_xpath(\".//tbody//tr//td//textarea\")\n",
    "        box.click()\n",
    "        box.clear()\n",
    "        box.send_keys(\n",
    "        \"http://www.chillyroom.com/game/promotion/AppStore/config.json\"\n",
    "        \"\\n\"\n",
    "        \"http://www.chillyroom.com/game/promotion/GooglePlay/config.json\"\n",
    "        )\n",
    "        time.sleep(random.random()+0.5)\n",
    "        button = driver.find_element_by_class_name(\"tc-btn\")\n",
    "        button.click()\n",
    "        time.sleep(1)\n",
    "        break\n",
    "    except NoSuchElementException:\n",
    "        time.sleep(5)"
   ]
  },
  {
   "cell_type": "code",
   "execution_count": 14,
   "metadata": {},
   "outputs": [],
   "source": [
    "time.sleep(2)\n",
    "driver.quit()"
   ]
  },
  {
   "cell_type": "code",
   "execution_count": null,
   "metadata": {},
   "outputs": [],
   "source": []
  }
 ],
 "metadata": {
  "kernelspec": {
   "display_name": "Scraping_Env",
   "language": "python",
   "name": "scraping_env"
  },
  "language_info": {
   "codemirror_mode": {
    "name": "ipython",
    "version": 3
   },
   "file_extension": ".py",
   "mimetype": "text/x-python",
   "name": "python",
   "nbconvert_exporter": "python",
   "pygments_lexer": "ipython3",
   "version": "3.6.5"
  }
 },
 "nbformat": 4,
 "nbformat_minor": 2
}
