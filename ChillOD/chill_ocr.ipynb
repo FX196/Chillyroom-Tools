{
 "cells": [
  {
   "cell_type": "code",
   "execution_count": 2,
   "metadata": {},
   "outputs": [],
   "source": [
    "import cv2\n",
    "import cv2 as cv\n",
    "import numpy as np\n",
    "import pytesseract\n",
    "from PIL import Image\n",
    "import os\n",
    "from IPython.display import Image as display_image\n",
    "import imutils"
   ]
  },
  {
   "cell_type": "code",
   "execution_count": 3,
   "metadata": {},
   "outputs": [
    {
     "data": {
      "text/plain": [
       "[\"images/1 | #03# + Paladin + The Emperor's New Gun | Endurian.jpg\",\n",
       " \"images/10 | #03# + Rouge + The Emperor's New Gun | Potassium.jpg\",\n",
       " 'images/11 | #03# + assassin + extra crown | NMH0518.jpg',\n",
       " 'images/12 | #03# + Priest + Extra Crown | ID497990333.jpg',\n",
       " 'images/13 | #03# + Priest + Exstra Crown. | ID513916359.jpg',\n",
       " 'images/14 | #03# + Robot + Extra crown | 🍊апельсин.jpg',\n",
       " \"images/15 | #03# + Paladin + The New Emperor's Gun | Waxlight.jpg\",\n",
       " \"images/2 | #03# Rogue + grand knight | MELODUPA 'ᴗ'.jpg\",\n",
       " \"images/3 | #03# + Rogue + The Emperor's New Gun | ☃️werewolfisbadguy☃️.jpg\",\n",
       " 'images/4 | #03#+robot+extra crown | Nvm [A.U.T.S](#SUBPewDiePie).jpg',\n",
       " \"images/5 | #03# + Asassin + The Emperor's New Gun | DragonSlayer71.jpg\",\n",
       " \"images/6 | #3# + Assassin + The Emperor's New Gun | ❄Rusacov❄.jpg\",\n",
       " \"images/7 | #03# + Knight + The Emperor's New Gun | WizArd.jpg\",\n",
       " 'images/8 | #03#+assassin+extra crown | саша пошигорев.jpg',\n",
       " \"images/9 | #3#+Robot+The New Emperor's Gun | ID488442681.jpg\"]"
      ]
     },
     "execution_count": 3,
     "metadata": {},
     "output_type": "execute_result"
    }
   ],
   "source": [
    "# load images\n",
    "source_dir = \"images/\"\n",
    "source_images = list(map(lambda x: source_dir+x,sorted(os.listdir(source_dir))[1:]))\n",
    "source_images"
   ]
  },
  {
   "cell_type": "code",
   "execution_count": 73,
   "metadata": {},
   "outputs": [],
   "source": [
    "# sample image\n",
    "ind=3\n",
    "display_image(source_images[ind])\n",
    "original = Image.open(source_images[ind])\n",
    "w, h = original.size\n",
    "cropped = original.crop((w*0.7, h*0, w*0.9, h*0.2))\n",
    "#cropped.show()\n",
    "cropped.save(\"cropped.jpg\")\n",
    "\n",
    "# try to turn all areas that are not white to white, and the original white area to black\n",
    "cropped = cropped.convert(\"RGB\")\n",
    "data = np.array(cropped)\n",
    "red, green, blue = data.T\n",
    "\n",
    "threshold = 200\n",
    "white_areas = (red > threshold) & (blue > threshold) & (green > threshold)\n",
    "data[:,:,:][white_areas.T] = (0, 0, 0)\n",
    "data[:,:,:][np.invert(white_areas.T)] = (255,255,255)\n",
    "\n",
    "im2 = Image.fromarray(data)\n",
    "#im2.show()\n",
    "\n",
    "im2.save(\"processed.jpg\")"
   ]
  },
  {
   "cell_type": "code",
   "execution_count": 74,
   "metadata": {},
   "outputs": [
    {
     "data": {
      "image/png": "[encoded data removed]",
      "text/plain": [
       "<IPython.core.display.Image object>"
      ]
     },
     "execution_count": 74,
     "metadata": {},
     "output_type": "execute_result"
    }
   ],
   "source": [
    "# load the example image\n",
    "image = cv2.imread(\"processed.jpg\")\n",
    "\n",
    "# pre-process the image by resizing it, converting it to\n",
    "# graycale, blurring it, and computing an edge map\n",
    "image = imutils.resize(image, height=500)\n",
    "gray = cv2.cvtColor(image, cv2.COLOR_BGR2GRAY)\n",
    "blurred = cv2.GaussianBlur(gray, (5, 5), 0)\n",
    "edged = cv2.Canny(blurred, 50, 200, 255)\n",
    "\n",
    "cv2.imwrite(\"edged.png\", edged)\n",
    "display_image('edged.png')"
   ]
  },
  {
   "cell_type": "code",
   "execution_count": 75,
   "metadata": {},
   "outputs": [
    {
     "data": {
      "image/png": "[encoded data removed]",
      "text/plain": [
       "<IPython.core.display.Image object>"
      ]
     },
     "execution_count": 75,
     "metadata": {},
     "output_type": "execute_result"
    }
   ],
   "source": [
    "im = cv2.imread('processed.jpg')\n",
    "gray=cv2.cvtColor(im,cv2.COLOR_BGR2GRAY)\n",
    "contours,hierarchy = cv2.findContours(gray,cv2.RETR_LIST,cv2.CHAIN_APPROX_SIMPLE)\n",
    "idx =0 \n",
    "for cnt in contours:\n",
    "    idx += 1\n",
    "    x,y,w,h = cv2.boundingRect(cnt)\n",
    "    roi=im[y:y+h,x:x+w]\n",
    "    #cv2.imwrite(str(idx) + '.jpg', roi)\n",
    "    #cv2.rectangle(im,(x,y),(x+w,y+h),(200,0,0),2)\n",
    "cv2.imwrite('bounded.png',im)\n",
    "display_image('bounded.png')"
   ]
  },
  {
   "cell_type": "code",
   "execution_count": 76,
   "metadata": {},
   "outputs": [
    {
     "data": {
      "image/png": "[encoded data removed]",
      "text/plain": [
       "<IPython.core.display.Image object>"
      ]
     },
     "execution_count": 76,
     "metadata": {},
     "output_type": "execute_result"
    }
   ],
   "source": [
    "# find contours in the thresholded image, then initialize the\n",
    "# digit contours lists\n",
    "gray=cv2.cvtColor(im,cv2.COLOR_BGR2GRAY)\n",
    "cnts,hierarchy = cv2.findContours(gray,cv2.RETR_LIST,cv2.CHAIN_APPROX_SIMPLE)\n",
    "digitCnts = []\n",
    "\n",
    "# loop over the digit area candidates\n",
    "for c in cnts:\n",
    "    # compute the bounding box of the contour\n",
    "    (x, y, w, h) = cv2.boundingRect(c)\n",
    "\n",
    "    # if the contour is sufficiently large, it must be a digit\n",
    "    if w >= 5 and (h >= 5 and h <= 40):\n",
    "        digitCnts.append(c)\n",
    "        cv2.rectangle(im,(x,y),(x+w,y+h),(200,0,0),2)\n",
    "cv2.imwrite('bounded.png',im)\n",
    "display_image('bounded.png')"
   ]
  },
  {
   "cell_type": "code",
   "execution_count": 85,
   "metadata": {},
   "outputs": [],
   "source": [
    "def get_string(img_path):\n",
    "    # Read image with opencv\n",
    "    img = cv2.imread(img_path)\n",
    "\n",
    "    # Convert to gray\n",
    "    img = cv2.cvtColor(img, cv2.COLOR_BGR2GRAY)\n",
    "\n",
    "    # Apply dilation and erosion to remove some noise\n",
    "    kernel = np.ones((1, 1), np.uint8)\n",
    "    img = cv2.dilate(img, kernel, iterations=1)\n",
    "    img = cv2.erode(img, kernel, iterations=1)\n",
    "\n",
    "    # Write image after removed noise\n",
    "    cv2.imwrite(\"removed_noise.png\", img)\n",
    "\n",
    "    #  Apply threshold to get image with only black and white\n",
    "    #img = cv2.adaptiveThreshold(img, 255, cv2.ADAPTIVE_THRESH_GAUSSIAN_C, cv2.THRESH_BINARY, 31, 2)\n",
    "\n",
    "    # Write the image after apply opencv to do some ...\n",
    "    cv2.imwrite(\"thres.png\", img)\n",
    "\n",
    "    # Recognize text with tesseract for python\n",
    "    result = pytesseract.image_to_string(Image.open(\"thres.png\"), config='outputbase digits')\n",
    "\n",
    "    # Remove template file\n",
    "    #os.remove(temp)\n",
    "\n",
    "    return result"
   ]
  },
  {
   "cell_type": "code",
   "execution_count": 86,
   "metadata": {},
   "outputs": [
    {
     "data": {
      "text/plain": [
       "'no\\n\\ntm'"
      ]
     },
     "execution_count": 86,
     "metadata": {},
     "output_type": "execute_result"
    }
   ],
   "source": [
    "get_string(\"processed.jpg\")"
   ]
  },
  {
   "cell_type": "code",
   "execution_count": null,
   "metadata": {},
   "outputs": [],
   "source": []
  }
 ],
 "metadata": {
  "kernelspec": {
   "display_name": "opencv",
   "language": "python",
   "name": "opencv"
  },
  "language_info": {
   "codemirror_mode": {
    "name": "ipython",
    "version": 3
   },
   "file_extension": ".py",
   "mimetype": "text/x-python",
   "name": "python",
   "nbconvert_exporter": "python",
   "pygments_lexer": "ipython3",
   "version": "3.6.5"
  }
 },
 "nbformat": 4,
 "nbformat_minor": 2
}
