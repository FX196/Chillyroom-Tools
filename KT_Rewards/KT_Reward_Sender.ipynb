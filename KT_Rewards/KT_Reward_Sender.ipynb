{
 "cells": [
  {
   "cell_type": "code",
   "execution_count": 1,
   "metadata": {},
   "outputs": [],
   "source": [
    "from selenium import webdriver\n",
    "from selenium.webdriver.chrome.options import Options\n",
    "from selenium.common.exceptions import NoSuchElementException\n",
    "from selenium.webdriver.common.action_chains import ActionChains\n",
    "import os\n",
    "import time\n",
    "from IPython.display import clear_output, display, Image\n",
    "\n",
    "from selenium.common.exceptions import TimeoutException\n",
    "from selenium.webdriver.common.by import By\n",
    "import selenium.webdriver.support.expected_conditions as EC\n",
    "import selenium.webdriver.support.ui as ui"
   ]
  },
  {
   "cell_type": "code",
   "execution_count": 2,
   "metadata": {},
   "outputs": [],
   "source": [
    "# instantiate a chrome options object so you can set the size and headless preference\n",
    "chrome_options = Options()\n",
    "chrome_options.add_argument(\"--headless\")\n",
    "chrome_options.add_argument(\"--window-size=1920x1080\")\n",
    "\n",
    "# download the chrome driver from https://sites.google.com/a/chromium.org/chromedriver/downloads and put it in the\n",
    "# current directory\n",
    "chrome_driver = os.getcwd() + \"\\\\chromedriver.exe\"\n",
    "\n",
    "\n",
    "def find_by_xpath_and_click(driv, xpath):\n",
    "    count=0\n",
    "    while count<4:\n",
    "        try:\n",
    "            driv.find_element_by_xpath(xpath).click()\n",
    "            break\n",
    "        except:\n",
    "            time.sleep(0.5)\n",
    "            count+=1\n",
    "\n",
    "\n",
    "def find_by_xpath_and_send_keys(driv, xpath, keys):\n",
    "    count=0\n",
    "    while count<4:\n",
    "        try:\n",
    "            field = driv.find_element_by_xpath(xpath)\n",
    "            break\n",
    "        except:\n",
    "            time.sleep(0.5)\n",
    "            count+=1\n",
    "    field.clear()\n",
    "    field.send_keys(keys)\n",
    "    time.sleep(0.5)\n",
    "\n",
    "\n",
    "def set_receiving_user(driver, target):\n",
    "    count = 0\n",
    "    done = False\n",
    "    while count < 3 and not done:\n",
    "        try:\n",
    "            find_by_xpath_and_send_keys(\n",
    "        driver, '//*[@id=\"AppContainer\"]/div/div/form/div[4]/section/div/div[2]/div[1]/div/div/div/ul/li/input', target[1])\n",
    "            time.sleep(count*1.5+0.5)\n",
    "            elements = driver.find_elements_by_css_selector('span.ellipsis.ng-binding')\n",
    "            for element in elements:\n",
    "                if element.text==target[0]:\n",
    "                    element.click()\n",
    "                    time.sleep(0.1)\n",
    "                    return True\n",
    "        except:\n",
    "            count += 1\n",
    "            time.sleep(0.5)\n",
    "            print(\"waiting \" + str(count))\n",
    "            \n",
    "    count = 0\n",
    "    done = False\n",
    "    while count < 3 and not done:\n",
    "        try:\n",
    "            find_by_xpath_and_send_keys(\n",
    "        driver, '//*[@id=\"AppContainer\"]/div/div/form/div[4]/section/div/div[2]/div[1]/div/div/div/ul/li/input', \"ID\"+target[1])\n",
    "            time.sleep(count*1.5+0.5)\n",
    "            elements = driver.find_elements_by_css_selector('span.ellipsis.ng-binding')\n",
    "            for element in elements:\n",
    "                if element.text==target[0]:\n",
    "                    element.click()\n",
    "                    time.sleep(0.1)\n",
    "                    return True\n",
    "        except:\n",
    "            count += 1\n",
    "            time.sleep(0.5)\n",
    "            print(\"waiting \" + str(count))"
   ]
  },
  {
   "cell_type": "code",
   "execution_count": 21,
   "metadata": {},
   "outputs": [],
   "source": [
    "with open(\"targets.txt\", \"r\") as file:\n",
    "    targets = file.read().splitlines()\n",
    "with open(\"specs.txt\", \"r\") as file:\n",
    "    specs = file.read().splitlines()\n",
    "title = specs[0].split(\": \")[1]\n",
    "content = specs[1].split(\": \")[1].replace(\"\\\\n\",\"\\n\")\n",
    "rewards = [line.split(\": \") for line in specs[3:]]\n",
    "rewards = [reward for reward in rewards if reward[1]!=\"0\"]\n",
    "targets = [[target.split('\\t')[0],target.split('\\t')[1][2:]] for target in targets]"
   ]
  },
  {
   "cell_type": "code",
   "execution_count": 4,
   "metadata": {},
   "outputs": [],
   "source": [
    "driver = webdriver.Chrome()"
   ]
  },
  {
   "cell_type": "code",
   "execution_count": 5,
   "metadata": {},
   "outputs": [],
   "source": [
    "driver.get(\"https://usdev.ktplay.com/#/user/login\")"
   ]
  },
  {
   "cell_type": "code",
   "execution_count": 6,
   "metadata": {},
   "outputs": [],
   "source": [
    "find_by_xpath_and_send_keys(driver, '//*[@id=\"loginform\"]/div[1]/div/div/div/input', \"mikechen212@foxmail.com\")\n",
    "find_by_xpath_and_send_keys(driver, '//*[@id=\"loginform\"]/div[2]/div/div/div/input', \"Qaz!23fischer\")\n",
    "find_by_xpath_and_click(driver, '//*[@id=\"loginform\"]/div[3]/input')"
   ]
  },
  {
   "cell_type": "code",
   "execution_count": 7,
   "metadata": {},
   "outputs": [],
   "source": [
    "# china\n",
    "find_by_xpath_and_click(driver, '//*[@id=\"AppContainer\"]/div/div[2]/ul/li[2]/div/div[3]/a/img')\n",
    "\n",
    "# world\n",
    "#find_by_xpath_and_click(driver, '//*[@id=\"AppContainer\"]/div/div[2]/ul/li[1]/div/div[3]/a/img')"
   ]
  },
  {
   "cell_type": "code",
   "execution_count": 8,
   "metadata": {},
   "outputs": [],
   "source": [
    "# switch to rewards\n",
    "find_by_xpath_and_click(driver, '//*[@id=\"liveOpts\"]/a/i')\n",
    "find_by_xpath_and_click(driver, '//*[@id=\"reward\"]/a')"
   ]
  },
  {
   "cell_type": "code",
   "execution_count": 9,
   "metadata": {},
   "outputs": [],
   "source": [
    "# create\n",
    "find_by_xpath_and_click(driver, '//*[@id=\"AppContainer\"]/div/div/div[3]/div/div[1]/form/button')"
   ]
  },
  {
   "cell_type": "code",
   "execution_count": 10,
   "metadata": {},
   "outputs": [],
   "source": [
    "# set title\n",
    "find_by_xpath_and_send_keys(\n",
    "    driver, '//*[@id=\"AppContainer\"]/div/div/form/div[2]/section[2]/div/div[2]/div/div[1]/div/div/input', title)\n",
    "# set content\n",
    "find_by_xpath_and_send_keys(\n",
    "    driver, '//*[@id=\"AppContainer\"]/div/div/form/div[2]/section[2]/div/div[2]/div/div[2]/div/label/textarea', content)"
   ]
  },
  {
   "cell_type": "code",
   "execution_count": 11,
   "metadata": {},
   "outputs": [],
   "source": [
    "# set rewards\n",
    "if len(rewards) == 1:\n",
    "    # don't click the + button\n",
    "    # click down arrow\n",
    "    find_by_xpath_and_click(\n",
    "        driver, '//*[@id=\"AppContainer\"]/div/div/form/div[2]/section[2]/div/div[2]/div/div[3]/div[1]/div/div[1]/div[1]/i')\n",
    "    # input reward type\n",
    "    find_by_xpath_and_send_keys(\n",
    "        driver, '//*[@id=\"AppContainer\"]/div/div/form/div[2]/section[2]/div/div[2]/div/div[3]/div[1]/div/div[1]/div[2]/div[1]/label/input', rewards[0][0])\n",
    "    # select reward\n",
    "    find_by_xpath_and_click(\n",
    "        driver, '//*[@id=\"AppContainer\"]/div/div/form/div[2]/section[2]/div/div[2]/div/div[3]/div[1]/div/div[1]/div[2]/div[2]/div/div')\n",
    "    # input amount\n",
    "    find_by_xpath_and_send_keys(\n",
    "        driver, '//*[@id=\"AppContainer\"]/div/div/form/div[2]/section[2]/div/div[2]/div/div[3]/div[1]/div/div[2]/input', rewards[0][1])\n",
    "else:\n",
    "    for i in range(len(rewards)-1):\n",
    "        clicked = False\n",
    "        while not clicked:\n",
    "            try:\n",
    "                driver.find_element_by_class_name('icon-plus-sign').click()\n",
    "                break\n",
    "            except:\n",
    "                time.sleep(0.5)\n",
    "    for index, reward in enumerate(rewards, start=1):\n",
    "        time.sleep(1)\n",
    "        # click down arrow\n",
    "        find_by_xpath_and_click(\n",
    "            driver, '//*[@id=\"AppContainer\"]/div/div/form/div[2]/section[2]/div/div[2]/div/div[3]/div[1]/div['+str(index)+']/div[1]/div[1]/i')\n",
    "        # input reward type\n",
    "        find_by_xpath_and_send_keys(\n",
    "            driver, '//*[@id=\"AppContainer\"]/div/div/form/div[2]/section[2]/div/div[2]/div/div[3]/div[1]/div['+str(index)+']/div[1]/div[2]/div[1]/label/input', reward[0])\n",
    "        # select reward\n",
    "        find_by_xpath_and_click(\n",
    "            driver, '//*[@id=\"AppContainer\"]/div/div/form/div[2]/section[2]/div/div[2]/div/div[3]/div[1]/div['+str(index)+']/div[1]/div[2]/div[2]/div/div')\n",
    "        # input amount\n",
    "        find_by_xpath_and_send_keys(\n",
    "            driver, '//*[@id=\"AppContainer\"]/div/div/form/div[2]/section[2]/div/div[2]/div/div[3]/div[1]/div['+str(index)+']/div[2]/input', reward[1])"
   ]
  },
  {
   "cell_type": "code",
   "execution_count": 12,
   "metadata": {},
   "outputs": [],
   "source": [
    "# next\n",
    "time.sleep(1)\n",
    "find_by_xpath_and_click(\n",
    "    driver, '//*[@id=\"AppContainer\"]/div/div/form/div[5]/input[1]')"
   ]
  },
  {
   "cell_type": "code",
   "execution_count": 13,
   "metadata": {},
   "outputs": [],
   "source": [
    "# set date\n",
    "time.sleep(0.5)\n",
    "find_by_xpath_and_click(driver, '//*[@id=\"AppContainer\"]/div/div/form/div[3]/section[1]/div/div[3]/div/div/div/div/div/input')\n",
    "time.sleep(0.5)\n",
    "elements = driver.find_elements_by_css_selector('i.icon-arrow-right')\n",
    "for e in elements:\n",
    "    if e.is_displayed():\n",
    "        e.click()\n",
    "time.sleep(0.5)\n",
    "driver.find_elements_by_css_selector(\"td.day:not(.disabled)\")[-1].click()\n",
    "driver.find_elements_by_css_selector(\"span.hour:not(.disabled)\")[-1].click()\n",
    "driver.find_elements_by_css_selector(\"span.minute:not(.disabled)\")[-1].click()"
   ]
  },
  {
   "cell_type": "code",
   "execution_count": 14,
   "metadata": {},
   "outputs": [],
   "source": [
    "# next\n",
    "time.sleep(1)\n",
    "find_by_xpath_and_click(\n",
    "    driver, '//*[@id=\"AppContainer\"]/div/div/form/div[5]/input[1]')"
   ]
  },
  {
   "cell_type": "code",
   "execution_count": 15,
   "metadata": {},
   "outputs": [],
   "source": [
    "# filter by user\n",
    "time.sleep(0.5)\n",
    "find_by_xpath_and_click(driver, '//*[@id=\"AppContainer\"]/div/div/form/div[4]/section/header/div/button')\n",
    "find_by_xpath_and_click(driver, '//*[@id=\"AppContainer\"]/div/div/form/div[4]/section/header/div/ul/li[5]/a')"
   ]
  },
  {
   "cell_type": "code",
   "execution_count": 16,
   "metadata": {},
   "outputs": [],
   "source": [
    "time.sleep(0.5)\n",
    "for target in targets:\n",
    "    if not set_receiving_user(driver, target):\n",
    "        print(target)"
   ]
  },
  {
   "cell_type": "code",
   "execution_count": 17,
   "metadata": {},
   "outputs": [],
   "source": [
    "# next\n",
    "find_by_xpath_and_click(driver, '//*[@id=\"AppContainer\"]/div/div/form/div[5]/input[1]')"
   ]
  }
 ],
 "metadata": {
  "kernelspec": {
   "display_name": "csgo_stickers",
   "language": "python",
   "name": "csgo_stickerss"
  },
  "language_info": {
   "codemirror_mode": {
    "name": "ipython",
    "version": 3
   },
   "file_extension": ".py",
   "mimetype": "text/x-python",
   "name": "python",
   "nbconvert_exporter": "python",
   "pygments_lexer": "ipython3",
   "version": "3.7.0"
  }
 },
 "nbformat": 4,
 "nbformat_minor": 2
}
