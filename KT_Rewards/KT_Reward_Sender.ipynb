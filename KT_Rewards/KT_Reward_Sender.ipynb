{
 "cells": [
  {
   "cell_type": "code",
   "execution_count": 71,
   "metadata": {},
   "outputs": [],
   "source": [
    "from selenium import webdriver\n",
    "from selenium.webdriver.chrome.options import Options\n",
    "from selenium.common.exceptions import NoSuchElementException\n",
    "from selenium.webdriver.common.action_chains import ActionChains\n",
    "import os\n",
    "import time\n",
    "from IPython.display import clear_output, display, Image\n",
    "\n",
    "from selenium.common.exceptions import TimeoutException\n",
    "from selenium.webdriver.common.by import By\n",
    "import selenium.webdriver.support.expected_conditions as EC\n",
    "import selenium.webdriver.support.ui as ui"
   ]
  },
  {
   "cell_type": "code",
   "execution_count": 88,
   "metadata": {},
   "outputs": [],
   "source": [
    "# instantiate a chrome options object so you can set the size and headless preference\n",
    "chrome_options = Options()\n",
    "chrome_options.add_argument(\"--headless\")\n",
    "chrome_options.add_argument(\"--window-size=1920x1080\")\n",
    "\n",
    "# download the chrome driver from https://sites.google.com/a/chromium.org/chromedriver/downloads and put it in the\n",
    "# current directory\n",
    "chrome_driver = os.getcwd() + \"\\\\chromedriver.exe\"\n",
    "\n",
    "\n",
    "def find_by_xpath_and_click(driv, xpath):\n",
    "    driv.find_element_by_xpath(xpath).click()\n",
    "    time.sleep(0.5)\n",
    "\n",
    "\n",
    "def find_by_xpath_and_send_keys(driv, xpath, keys):\n",
    "    field = driv.find_element_by_xpath(xpath)\n",
    "    field.send_keys(keys)\n",
    "    time.sleep(0.5)\n",
    "\n",
    "\n",
    "def set_receiving_user(driver, user_id):\n",
    "    find_by_xpath_and_send_keys(\n",
    "        driver, '//*[@id=\"AppContainer\"]/div/div/form/div[4]/section/div/div[2]/div[1]/div/div/div/ul/li/input', user_id)\n",
    "    visible = False\n",
    "    count = 0\n",
    "    while not visible and count < 10:\n",
    "        try:\n",
    "            find_by_xpath_and_click(\n",
    "                driver, '//*[@id=\"ui-select-choices-row-0-0\"]/div')\n",
    "            return\n",
    "        except NoSuchElementException:\n",
    "            count += 1\n",
    "            time.sleep(0.5)\n",
    "            print(\"waiting \" + str(count))"
   ]
  },
  {
   "cell_type": "code",
   "execution_count": 77,
   "metadata": {},
   "outputs": [],
   "source": [
    "driver = webdriver.Chrome()"
   ]
  },
  {
   "cell_type": "code",
   "execution_count": 78,
   "metadata": {},
   "outputs": [],
   "source": [
    "driver.get(\"https://usdev.ktplay.com/#/user/login\")"
   ]
  },
  {
   "cell_type": "code",
   "execution_count": 79,
   "metadata": {},
   "outputs": [],
   "source": [
    "email_box = driver.find_element_by_xpath(\n",
    "    '//*[@id=\"loginform\"]/div[1]/div/div/div/input')\n",
    "email_box.send_keys(\"mikechen212@foxmail.com\")\n",
    "password_box = driver.find_element_by_xpath(\n",
    "    '//*[@id=\"loginform\"]/div[2]/div/div/div/input')\n",
    "password_box.send_keys(\"Qaz!23fischer\")\n",
    "login_button = driver.find_element_by_xpath(\n",
    "    '//*[@id=\"loginform\"]/div[3]/input')\n",
    "login_button.click()"
   ]
  },
  {
   "cell_type": "code",
   "execution_count": 80,
   "metadata": {},
   "outputs": [
    {
     "ename": "TypeError",
     "evalue": "find_by_xpath_and_click() missing 1 required positional argument: 'xpath'",
     "output_type": "error",
     "traceback": [
      "\u001b[0;31m---------------------------------------------------------------------------\u001b[0m",
      "\u001b[0;31mTypeError\u001b[0m                                 Traceback (most recent call last)",
      "\u001b[0;32m<ipython-input-80-63e7ac775008>\u001b[0m in \u001b[0;36m<module>\u001b[0;34m\u001b[0m\n\u001b[1;32m      3\u001b[0m \u001b[0;34m\u001b[0m\u001b[0m\n\u001b[1;32m      4\u001b[0m \u001b[0;31m# world\u001b[0m\u001b[0;34m\u001b[0m\u001b[0;34m\u001b[0m\u001b[0m\n\u001b[0;32m----> 5\u001b[0;31m \u001b[0mfind_by_xpath_and_click\u001b[0m\u001b[0;34m(\u001b[0m\u001b[0;34m'//*[@id=\"AppContainer\"]/div/div[2]/ul/li[1]/div/div[3]/a/img'\u001b[0m\u001b[0;34m)\u001b[0m\u001b[0;34m\u001b[0m\u001b[0m\n\u001b[0m",
      "\u001b[0;31mTypeError\u001b[0m: find_by_xpath_and_click() missing 1 required positional argument: 'xpath'"
     ]
    }
   ],
   "source": [
    "# china\n",
    "find_by_xpath_and_click(driver, '//*[@id=\"AppContainer\"]/div/div[2]/ul/li[2]/div/div[3]/a/img')\n",
    "\n",
    "# world\n",
    "find_by_xpath_and_click(driver, '//*[@id=\"AppContainer\"]/div/div[2]/ul/li[1]/div/div[3]/a/img')"
   ]
  },
  {
   "cell_type": "code",
   "execution_count": 81,
   "metadata": {},
   "outputs": [],
   "source": [
    "community = driver.find_element_by_xpath('//*[@id=\"liveOpts\"]/a/i')\n",
    "community.click()\n",
    "rewards = driver.find_element_by_xpath('//*[@id=\"reward\"]/a')\n",
    "rewards.click()"
   ]
  },
  {
   "cell_type": "code",
   "execution_count": 83,
   "metadata": {},
   "outputs": [],
   "source": [
    "# create\n",
    "find_by_xpath_and_click(driver, '//*[@id=\"AppContainer\"]/div/div/div[3]/div/div[1]/form/button')"
   ]
  },
  {
   "cell_type": "code",
   "execution_count": 84,
   "metadata": {},
   "outputs": [],
   "source": [
    "# set title\n",
    "find_by_xpath_and_send_keys(driver, '//*[@id=\"AppContainer\"]/div/div/form/div[2]/section[2]/div/div[2]/div/div[1]/div/div/input', \"test\")\n",
    "# set content\n",
    "find_by_xpath_and_send_keys(driver, '//*[@id=\"AppContainer\"]/div/div/form/div[2]/section[2]/div/div[2]/div/div[2]/div/label/textarea', \"test\")"
   ]
  },
  {
   "cell_type": "code",
   "execution_count": null,
   "metadata": {},
   "outputs": [],
   "source": []
  },
  {
   "cell_type": "code",
   "execution_count": 86,
   "metadata": {},
   "outputs": [],
   "source": [
    "# filter by user\n",
    "find_by_xpath_and_click(driver, '//*[@id=\"AppContainer\"]/div/div/form/div[4]/section/header/div/button')\n",
    "find_by_xpath_and_click(driver, '//*[@id=\"AppContainer\"]/div/div/form/div[4]/section/header/div/ul/li[5]/a')"
   ]
  },
  {
   "cell_type": "code",
   "execution_count": 91,
   "metadata": {},
   "outputs": [
    {
     "name": "stdout",
     "output_type": "stream",
     "text": [
      "waiting 1\n",
      "waiting 1\n",
      "waiting 2\n"
     ]
    }
   ],
   "source": [
    "set_receiving_user(driver, 'Yokoyeung')\n",
    "set_receiving_user(driver, 'FX0Chilly')"
   ]
  },
  {
   "cell_type": "code",
   "execution_count": 92,
   "metadata": {},
   "outputs": [],
   "source": [
    "# next\n",
    "find_by_xpath_and_click(driver, '//*[@id=\"AppContainer\"]/div/div/form/div[5]/input[1]')"
   ]
  },
  {
   "cell_type": "code",
   "execution_count": 93,
   "metadata": {},
   "outputs": [],
   "source": [
    "# submit\n",
    "find_by_xpath_and_click(driver, '//*[@id=\"AppContainer\"]/div/div/form/div[5]/input[1]')"
   ]
  },
  {
   "cell_type": "code",
   "execution_count": null,
   "metadata": {},
   "outputs": [],
   "source": []
  }
 ],
 "metadata": {
  "kernelspec": {
   "display_name": "csgo_stickers",
   "language": "python",
   "name": "csgo_stickerss"
  },
  "language_info": {
   "codemirror_mode": {
    "name": "ipython",
    "version": 3
   },
   "file_extension": ".py",
   "mimetype": "text/x-python",
   "name": "python",
   "nbconvert_exporter": "python",
   "pygments_lexer": "ipython3",
   "version": "3.7.0"
  }
 },
 "nbformat": 4,
 "nbformat_minor": 2
}
